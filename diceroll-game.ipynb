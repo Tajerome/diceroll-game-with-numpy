{
  "nbformat": 4,
  "nbformat_minor": 0,
  "metadata": {
    "colab": {
      "provenance": []
    },
    "kernelspec": {
      "name": "python3",
      "display_name": "Python 3"
    },
    "language_info": {
      "name": "python"
    }
  },
  "cells": [
    {
      "cell_type": "markdown",
      "source": [
        "Here is the brief Project Description:\n",
        "You will simulate rolling multiple dice and analyze the outcomes using NumPy. This project involves generating random dice rolls, calculating statistics (like the average roll, the probability of rolling certain numbers), and visualizing the results. The goal is to perform a Monte Carlo simulation of a dice roll experiment and study the probability distribution of the outcomes.\n",
        "\n",
        "Steps:\n",
        "Simulate Dice Rolls:\n",
        "\n",
        "Use NumPy to simulate rolling one or multiple dice.\n",
        "Define the number of rolls (e.g., 10,000 rolls) to gather a large enough sample size for statistical analysis.\n",
        "Calculate Statistical Measures:\n",
        "\n",
        "Find the mean, median, mode, and standard deviation of the dice rolls.\n",
        "Calculate the probability of rolling each possible outcome (1 to 6 for a standard die).\n",
        "Monte Carlo Simulation:\n",
        "\n",
        "Simulate a game where you roll two dice, and the outcome is the sum of both dice.\n",
        "Perform multiple simulations to understand the distribution of sums.\n"
      ],
      "metadata": {
        "id": "5wGicbuzpDG8"
      }
    },
    {
      "cell_type": "code",
      "source": [
        "import numpy as np"
      ],
      "metadata": {
        "id": "Fo9kFNCTpFeL"
      },
      "execution_count": null,
      "outputs": []
    },
    {
      "cell_type": "code",
      "source": [
        "def simulate_dice_rolls(num_rolls, num_dice):\n",
        "    return np.random.randint(1, 7, (num_rolls, num_dice))\n",
        "num_rolls = 10000\n",
        "num_dice = 1\n",
        "dice_rolls = simulate_dice_rolls(num_rolls, num_dice)\n",
        "print(dice_rolls)"
      ],
      "metadata": {
        "id": "RMgfimogHML3",
        "colab": {
          "base_uri": "https://localhost:8080/"
        },
        "outputId": "b0a6c8ac-1a3f-469a-d271-980fbbc001df"
      },
      "execution_count": null,
      "outputs": [
        {
          "output_type": "stream",
          "name": "stdout",
          "text": [
            "[[5]\n",
            " [6]\n",
            " [4]\n",
            " ...\n",
            " [4]\n",
            " [1]\n",
            " [2]]\n"
          ]
        }
      ]
    },
    {
      "cell_type": "code",
      "source": [
        "if num_dice == 1:\n",
        "    mean1 = np.mean(dice_rolls)\n",
        "    median1 = np.median(dice_rolls)\n",
        "    std1 = np.std(dice_rolls)\n",
        "else:\n",
        "    sum_rolls = np.sum(dice_rolls, axis=1 )\n",
        "    mean1 = np.mean(sum_rolls)\n",
        "    median1 = np.median(sum_rolls)\n",
        "    std1 = np.std(sum_rolls)\n",
        "\n",
        "print(f\"Mean: {mean1:.2f}\")\n",
        "print(f\"Median: {median1}\")\n",
        "print(f\"Standard Deviation: {std1:.2f}\")"
      ],
      "metadata": {
        "colab": {
          "base_uri": "https://localhost:8080/"
        },
        "id": "8aJXTrQ_gumX",
        "outputId": "7f60be77-74f0-4e9f-a292-743d3b8000a9"
      },
      "execution_count": null,
      "outputs": [
        {
          "output_type": "stream",
          "name": "stdout",
          "text": [
            "Mean: 3.48\n",
            "Median: 3.0\n",
            "Standard Deviation: 1.70\n"
          ]
        }
      ]
    },
    {
      "cell_type": "code",
      "source": [
        "count_face = lambda x: np.sum(dice_rolls == x)\n",
        "frequencies = [count_face(i) for i in range(1, 7)]\n",
        "probabilities = [freq / num_rolls for freq in frequencies]\n",
        "\n",
        "print(\"Face  Frequency  Probability\")\n",
        "print(\"----------------------------\")\n",
        "for i in range(1, 7):\n",
        "    print(i, frequencies[i - 1], probabilities[i - 1])"
      ],
      "metadata": {
        "colab": {
          "base_uri": "https://localhost:8080/"
        },
        "id": "rNipb_ykgyL6",
        "outputId": "8b3a12ca-08d3-4405-b0ed-081630dacf2a"
      },
      "execution_count": null,
      "outputs": [
        {
          "output_type": "stream",
          "name": "stdout",
          "text": [
            "Face  Frequency  Probability\n",
            "----------------------------\n",
            "1 1686 0.1686\n",
            "2 1655 0.1655\n",
            "3 1709 0.1709\n",
            "4 1687 0.1687\n",
            "5 1662 0.1662\n",
            "6 1601 0.1601\n"
          ]
        }
      ]
    },
    {
      "cell_type": "code",
      "source": [
        "import matplotlib.pyplot as plt\n",
        "\n",
        "plt.hist(dice_rolls, bins=range(1, 8), edgecolor='black', alpha=0.7)\n",
        "plt.title('Histogram of Dice Rolls')\n",
        "plt.xlabel('Dice Face')\n",
        "plt.ylabel('Frequency')\n",
        "plt.show()"
      ],
      "metadata": {
        "colab": {
          "base_uri": "https://localhost:8080/",
          "height": 472
        },
        "id": "3DEn01tvlaQZ",
        "outputId": "ed007285-49e2-4fe6-ff2e-280709df55b9"
      },
      "execution_count": null,
      "outputs": [
        {
          "output_type": "display_data",
          "data": {
            "text/plain": [
              "<Figure size 640x480 with 1 Axes>"
            ],
            "image/png": "[encoded data removed]"
          },
          "metadata": {}
        }
      ]
    }
  ]
}
